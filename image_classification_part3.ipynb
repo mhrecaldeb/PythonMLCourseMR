{
  "nbformat": 4,
  "nbformat_minor": 0,
  "metadata": {
    "accelerator": "GPU",
    "colab": {
      "name": "image_classification_part3.ipynb",
      "provenance": [],
      "collapsed_sections": [
        "jTEzoMx6CasV"
      ],
      "include_colab_link": true
    },
    "kernelspec": {
      "display_name": "Python 3",
      "name": "python3"
    }
  },
  "cells": [
    {
      "cell_type": "markdown",
      "metadata": {
        "id": "view-in-github",
        "colab_type": "text"
      },
      "source": [
        "<a href=\"https://colab.research.google.com/github/mhrecaldeb/PythonMLCourseMR/blob/main/image_classification_part3.ipynb\" target=\"_parent\"><img src=\"https://colab.research.google.com/assets/colab-badge.svg\" alt=\"Open In Colab\"/></a>"
      ]
    },
    {
      "cell_type": "markdown",
      "metadata": {
        "id": "jTEzoMx6CasV"
      },
      "source": [
        "#### Copyright 2018 Google LLC."
      ]
    },
    {
      "cell_type": "code",
      "metadata": {
        "id": "IhmPj1VVCfWb"
      },
      "source": [
        "# Licensed under the Apache License, Version 2.0 (the \"License\");\n",
        "# you may not use this file except in compliance with the License.\n",
        "# You may obtain a copy of the License at\n",
        "#\n",
        "# https://www.apache.org/licenses/LICENSE-2.0\n",
        "#\n",
        "# Unless required by applicable law or agreed to in writing, software\n",
        "# distributed under the License is distributed on an \"AS IS\" BASIS,\n",
        "# WITHOUT WARRANTIES OR CONDITIONS OF ANY KIND, either express or implied.\n",
        "# See the License for the specific language governing permissions and\n",
        "# limitations under the License."
      ],
      "execution_count": null,
      "outputs": []
    },
    {
      "cell_type": "markdown",
      "metadata": {
        "id": "YHK6DyunSbs4"
      },
      "source": [
        "# Cat vs. Dog Image Classification\n",
        "## Exercise 3: Feature Extraction and Fine-Tuning\n",
        "**_Estimated completion time: 30 minutes_**\n",
        "\n",
        "In Exercise 1, we built a convnet from scratch, and were able to achieve an accuracy of about 70%. With the addition of data augmentation and dropout in Exercise 2, we were able to increase accuracy to about 80%. That seems decent, but 20% is still too high of an error rate. Maybe we just don't have enough training data available to properly solve the problem. What other approaches can we try?\n",
        "\n",
        "In this exercise, we'll look at two techniques for repurposing feature data generated from image models that have already been trained on large sets of data, **feature extraction** and **fine tuning**, and use them to improve the accuracy of our cat vs. dog classification model."
      ]
    },
    {
      "cell_type": "markdown",
      "metadata": {
        "id": "dI5rmt4UBwXs"
      },
      "source": [
        "## Feature Extraction Using a Pretrained Model\n",
        "\n",
        "One thing that is commonly done in computer vision is to take a model trained on a very large dataset, run it on your own, smaller dataset, and extract the intermediate representations (features) that the model generates. These representations are frequently informative for your own computer vision task, even though the task may be quite different from the problem that the original model was trained on. This versatility and repurposability of convnets is one of the most interesting aspects of deep learning.\n",
        "\n",
        "In our case, we will use the [Inception V3 model](https://arxiv.org/abs/1512.00567) developed at Google, and pre-trained on [ImageNet](http://image-net.org/), a large dataset of web images (1.4M images and 1000 classes). This is a powerful model; let's see what the features that it has learned can do for our cat vs. dog problem.\n",
        "\n",
        "First, we need to pick which intermediate layer of Inception V3 we will use for feature extraction. A common practice is to use the output of the very last layer before the `Flatten` operation, the so-called \"bottleneck layer.\" The reasoning here is that the following fully connected layers will be too specialized for the task the network was trained on, and thus the features learned by these layers won't be very useful for a new task. The bottleneck features, however, retain much generality.\n",
        "\n",
        "Let's instantiate an Inception V3 model preloaded with weights trained on ImageNet:\n"
      ]
    },
    {
      "cell_type": "code",
      "metadata": {
        "id": "1xJZ5glPPCRz"
      },
      "source": [
        "import os\n",
        "\n",
        "from tensorflow.keras import layers\n",
        "from tensorflow.keras import Model"
      ],
      "execution_count": 1,
      "outputs": []
    },
    {
      "cell_type": "markdown",
      "metadata": {
        "id": "VaXLMtYiF0t9"
      },
      "source": [
        "Now let's download the weights:"
      ]
    },
    {
      "cell_type": "code",
      "metadata": {
        "id": "KMrbllgAFipZ",
        "colab": {
          "base_uri": "https://localhost:8080/"
        },
        "outputId": "84d59258-5334-4cd1-96c3-709ba5013a80"
      },
      "source": [
        "!wget --no-check-certificate \\\n",
        "    https://storage.googleapis.com/mledu-datasets/inception_v3_weights_tf_dim_ordering_tf_kernels_notop.h5 \\\n",
        "    -O /tmp/inception_v3_weights_tf_dim_ordering_tf_kernels_notop.h5"
      ],
      "execution_count": 2,
      "outputs": [
        {
          "output_type": "stream",
          "name": "stdout",
          "text": [
            "--2021-11-12 03:43:21--  https://storage.googleapis.com/mledu-datasets/inception_v3_weights_tf_dim_ordering_tf_kernels_notop.h5\n",
            "Resolving storage.googleapis.com (storage.googleapis.com)... 108.177.121.128, 108.177.120.128, 142.250.128.128, ...\n",
            "Connecting to storage.googleapis.com (storage.googleapis.com)|108.177.121.128|:443... connected.\n",
            "HTTP request sent, awaiting response... 200 OK\n",
            "Length: 87910968 (84M) [application/x-hdf]\n",
            "Saving to: ‘/tmp/inception_v3_weights_tf_dim_ordering_tf_kernels_notop.h5’\n",
            "\n",
            "/tmp/inception_v3_w 100%[===================>]  83.84M   166MB/s    in 0.5s    \n",
            "\n",
            "2021-11-12 03:43:22 (166 MB/s) - ‘/tmp/inception_v3_weights_tf_dim_ordering_tf_kernels_notop.h5’ saved [87910968/87910968]\n",
            "\n"
          ]
        }
      ]
    },
    {
      "cell_type": "code",
      "metadata": {
        "id": "UnRiGBfOF8rq"
      },
      "source": [
        "from tensorflow.keras.applications.inception_v3 import InceptionV3\n",
        "\n",
        "local_weights_file = '/tmp/inception_v3_weights_tf_dim_ordering_tf_kernels_notop.h5'\n",
        "pre_trained_model = InceptionV3(\n",
        "    input_shape=(150, 150, 3), include_top=False, weights=None)\n",
        "pre_trained_model.load_weights(local_weights_file)"
      ],
      "execution_count": 3,
      "outputs": []
    },
    {
      "cell_type": "markdown",
      "metadata": {
        "id": "IcYZPBS3bTAj"
      },
      "source": [
        "By specifying the `include_top=False` argument, we load a network that doesn't include the classification layers at the top—ideal for feature extraction."
      ]
    },
    {
      "cell_type": "markdown",
      "metadata": {
        "id": "CFxrqTuJee5m"
      },
      "source": [
        "Let's make the model non-trainable, since we will only use it for feature extraction; we won't update the weights of the pretrained model during training."
      ]
    },
    {
      "cell_type": "code",
      "metadata": {
        "id": "a38rB3lyedcB"
      },
      "source": [
        "for layer in pre_trained_model.layers:\n",
        "  layer.trainable = False"
      ],
      "execution_count": 4,
      "outputs": []
    },
    {
      "cell_type": "markdown",
      "metadata": {
        "id": "XGBGDiOAepnO"
      },
      "source": [
        "The layer we will use for feature extraction in Inception v3 is called `mixed7`. It is not the bottleneck of the network, but we are using it to keep a sufficiently large feature map (7x7 in this case). (Using the bottleneck layer would have resulting in a 3x3 feature map, which is a bit small.) Let's get the output from `mixed7`:"
      ]
    },
    {
      "cell_type": "code",
      "metadata": {
        "id": "Cj4rXshqbQlS",
        "colab": {
          "base_uri": "https://localhost:8080/"
        },
        "outputId": "95653e8f-670d-4843-ed74-726983fdf7fa"
      },
      "source": [
        "last_layer = pre_trained_model.get_layer('mixed7')\n",
        "print('last layer output shape:', last_layer.output_shape)\n",
        "last_output = last_layer.output"
      ],
      "execution_count": 5,
      "outputs": [
        {
          "output_type": "stream",
          "name": "stdout",
          "text": [
            "last layer output shape: (None, 7, 7, 768)\n"
          ]
        }
      ]
    },
    {
      "cell_type": "markdown",
      "metadata": {
        "id": "XxHk6XQLeUWh"
      },
      "source": [
        "Now let's stick a fully connected classifier on top of `last_output`:"
      ]
    },
    {
      "cell_type": "code",
      "metadata": {
        "id": "BMXb913pbvFg",
        "colab": {
          "base_uri": "https://localhost:8080/"
        },
        "outputId": "d5e2d0c5-e51f-49b9-8ee5-301f6e2ee54c"
      },
      "source": [
        "from tensorflow.keras.optimizers import RMSprop\n",
        "\n",
        "# Flatten the output layer to 1 dimension\n",
        "x = layers.Flatten()(last_output)\n",
        "# Add a fully connected layer with 1,024 hidden units and ReLU activation\n",
        "x = layers.Dense(1024, activation='relu')(x)\n",
        "# Add a dropout rate of 0.2\n",
        "x = layers.Dropout(0.2)(x)\n",
        "# Add a final sigmoid layer for classification\n",
        "x = layers.Dense(1, activation='sigmoid')(x)\n",
        "\n",
        "# Configure and compile the model\n",
        "model = Model(pre_trained_model.input, x)\n",
        "model.compile(loss='binary_crossentropy',\n",
        "              optimizer=RMSprop(lr=0.0001),\n",
        "              metrics=['acc'])"
      ],
      "execution_count": 6,
      "outputs": [
        {
          "output_type": "stream",
          "name": "stderr",
          "text": [
            "/usr/local/lib/python3.7/dist-packages/keras/optimizer_v2/rmsprop.py:130: UserWarning: The `lr` argument is deprecated, use `learning_rate` instead.\n",
            "  super(RMSprop, self).__init__(name, **kwargs)\n"
          ]
        }
      ]
    },
    {
      "cell_type": "markdown",
      "metadata": {
        "id": "_6ECjowwV5Ug"
      },
      "source": [
        "For examples and data preprocessing, let's use the same files and `train_generator` as we did in Exercise 2."
      ]
    },
    {
      "cell_type": "markdown",
      "metadata": {
        "id": "Cl-IqOTjZVw_"
      },
      "source": [
        "**NOTE:** The 2,000 images used in this exercise are excerpted from the [\"Dogs vs. Cats\" dataset](https://www.kaggle.com/c/dogs-vs-cats/data) available on Kaggle, which contains 25,000 images. Here, we use a subset of the full dataset to decrease training time for educational purposes."
      ]
    },
    {
      "cell_type": "code",
      "metadata": {
        "id": "O4s8HckqGlnb",
        "colab": {
          "base_uri": "https://localhost:8080/"
        },
        "outputId": "4f0d9670-b8a1-4c69-b60c-eb59723f3534"
      },
      "source": [
        "!wget --no-check-certificate \\\n",
        "   https://storage.googleapis.com/mledu-datasets/cats_and_dogs_filtered.zip -O \\\n",
        "   /tmp/cats_and_dogs_filtered.zip"
      ],
      "execution_count": 7,
      "outputs": [
        {
          "output_type": "stream",
          "name": "stdout",
          "text": [
            "--2021-11-12 03:47:30--  https://storage.googleapis.com/mledu-datasets/cats_and_dogs_filtered.zip\n",
            "Resolving storage.googleapis.com (storage.googleapis.com)... 108.177.112.128, 74.125.124.128, 172.217.212.128, ...\n",
            "Connecting to storage.googleapis.com (storage.googleapis.com)|108.177.112.128|:443... connected.\n",
            "HTTP request sent, awaiting response... 200 OK\n",
            "Length: 68606236 (65M) [application/zip]\n",
            "Saving to: ‘/tmp/cats_and_dogs_filtered.zip’\n",
            "\n",
            "/tmp/cats_and_dogs_ 100%[===================>]  65.43M   165MB/s    in 0.4s    \n",
            "\n",
            "2021-11-12 03:47:30 (165 MB/s) - ‘/tmp/cats_and_dogs_filtered.zip’ saved [68606236/68606236]\n",
            "\n"
          ]
        }
      ]
    },
    {
      "cell_type": "code",
      "metadata": {
        "id": "Fl9XXARuV_eg",
        "colab": {
          "base_uri": "https://localhost:8080/"
        },
        "outputId": "b673c229-ae78-4712-e249-25710af0d6c1"
      },
      "source": [
        "import os\n",
        "import zipfile\n",
        "\n",
        "from tensorflow.keras.preprocessing.image import ImageDataGenerator\n",
        "\n",
        "local_zip = '/tmp/cats_and_dogs_filtered.zip'\n",
        "zip_ref = zipfile.ZipFile(local_zip, 'r')\n",
        "zip_ref.extractall('/tmp')\n",
        "zip_ref.close()\n",
        "\n",
        "# Define our example directories and files\n",
        "base_dir = '/tmp/cats_and_dogs_filtered'\n",
        "train_dir = os.path.join(base_dir, 'train')\n",
        "validation_dir = os.path.join(base_dir, 'validation')\n",
        "\n",
        "# Directory with our training cat pictures\n",
        "train_cats_dir = os.path.join(train_dir, 'cats')\n",
        "\n",
        "# Directory with our training dog pictures\n",
        "train_dogs_dir = os.path.join(train_dir, 'dogs')\n",
        "\n",
        "# Directory with our validation cat pictures\n",
        "validation_cats_dir = os.path.join(validation_dir, 'cats')\n",
        "\n",
        "# Directory with our validation dog pictures\n",
        "validation_dogs_dir = os.path.join(validation_dir, 'dogs')\n",
        "\n",
        "train_cat_fnames = os.listdir(train_cats_dir)\n",
        "train_dog_fnames = os.listdir(train_dogs_dir)\n",
        "\n",
        "# Add our data-augmentation parameters to ImageDataGenerator\n",
        "train_datagen = ImageDataGenerator(\n",
        "    rescale=1./255,\n",
        "    rotation_range=40,\n",
        "    width_shift_range=0.2,\n",
        "    height_shift_range=0.2,\n",
        "    shear_range=0.2,\n",
        "    zoom_range=0.2,\n",
        "    horizontal_flip=True)\n",
        "\n",
        "# Note that the validation data should not be augmented!\n",
        "val_datagen = ImageDataGenerator(rescale=1./255)\n",
        "\n",
        "train_generator = train_datagen.flow_from_directory(\n",
        "        train_dir, # This is the source directory for training images\n",
        "        target_size=(150, 150),  # All images will be resized to 150x150\n",
        "        batch_size=20,\n",
        "        # Since we use binary_crossentropy loss, we need binary labels\n",
        "        class_mode='binary')\n",
        "\n",
        "# Flow validation images in batches of 20 using val_datagen generator\n",
        "validation_generator = val_datagen.flow_from_directory(\n",
        "        validation_dir,\n",
        "        target_size=(150, 150),\n",
        "        batch_size=20,\n",
        "        class_mode='binary')"
      ],
      "execution_count": 8,
      "outputs": [
        {
          "output_type": "stream",
          "name": "stdout",
          "text": [
            "Found 2000 images belonging to 2 classes.\n",
            "Found 1000 images belonging to 2 classes.\n"
          ]
        }
      ]
    },
    {
      "cell_type": "markdown",
      "metadata": {
        "id": "qEC1AL7iVRLz"
      },
      "source": [
        "Finally, let's train the model using the features we extracted. We'll train on all 2000 images available, for 2 epochs, and validate on all 1,000 validation images."
      ]
    },
    {
      "cell_type": "code",
      "metadata": {
        "id": "Blhq2MAUeyGA",
        "colab": {
          "base_uri": "https://localhost:8080/"
        },
        "outputId": "ede7d777-d515-4e66-b93e-2d548c750816"
      },
      "source": [
        "history = model.fit_generator(\n",
        "      train_generator,\n",
        "      steps_per_epoch=100,\n",
        "      epochs=3,\n",
        "      validation_data=validation_generator,\n",
        "      validation_steps=50,\n",
        "      verbose=2)"
      ],
      "execution_count": 10,
      "outputs": [
        {
          "output_type": "stream",
          "name": "stderr",
          "text": [
            "/usr/local/lib/python3.7/dist-packages/ipykernel_launcher.py:7: UserWarning: `Model.fit_generator` is deprecated and will be removed in a future version. Please use `Model.fit`, which supports generators.\n",
            "  import sys\n"
          ]
        },
        {
          "output_type": "stream",
          "name": "stdout",
          "text": [
            "Epoch 1/3\n",
            "100/100 - 24s - loss: 0.1937 - acc: 0.9325 - val_loss: 0.1233 - val_acc: 0.9630 - 24s/epoch - 236ms/step\n",
            "Epoch 2/3\n",
            "100/100 - 23s - loss: 0.1869 - acc: 0.9295 - val_loss: 0.1195 - val_acc: 0.9650 - 23s/epoch - 234ms/step\n",
            "Epoch 3/3\n",
            "100/100 - 22s - loss: 0.1906 - acc: 0.9340 - val_loss: 0.0984 - val_acc: 0.9610 - 22s/epoch - 224ms/step\n"
          ]
        }
      ]
    },
    {
      "cell_type": "markdown",
      "metadata": {
        "id": "lRjyAkE62aOG"
      },
      "source": [
        "You can see that we reach a validation accuracy of 88–90% very quickly. This is much better than the small model we trained from scratch."
      ]
    },
    {
      "cell_type": "markdown",
      "metadata": {
        "id": "tt15y6IS2pBo"
      },
      "source": [
        "## Further Improving Accuracy with Fine-Tuning\n",
        "\n",
        "In our feature-extraction experiment, we only tried adding two classification layers on top of an Inception V3 layer. The weights of the pretrained network were not updated during training. One way to increase performance even further is to \"fine-tune\" the weights of the top layers of the pretrained model alongside the training of the top-level classifier. A couple of important notes on fine-tuning:\n",
        "\n",
        "- **Fine-tuning should only be attempted *after* you have trained the top-level classifier with the pretrained model set to non-trainable**. If you add a randomly initialized classifier on top of a pretrained model and attempt to train all layers jointly, the magnitude of the gradient updates will be too large (due to the random weights from the classifier), and your pretrained model will just forget everything it has learned.\n",
        "- Additionally, we **fine-tune only the *top layers* of the pre-trained model** rather than all layers of the pretrained model because, in a convnet, the higher up a layer is, the more specialized it is. The first few layers in a convnet learn very simple and generic features, which generalize to almost all types of images. But as you go higher up, the features are increasingly specific to the dataset that the model is trained on. The goal of fine-tuning is to adapt these specialized features to work with the new dataset.\n",
        "\n",
        "All we need to do to implement fine-tuning is to set the top layers of Inception V3 to be trainable, recompile the model (necessary for these changes to take effect), and resume training. Let's unfreeze all layers belonging to the `mixed7` module—i.e., all layers found after `mixed6`—and recompile the model:"
      ]
    },
    {
      "cell_type": "code",
      "metadata": {
        "id": "_l_J4S0Z2rgg",
        "colab": {
          "base_uri": "https://localhost:8080/"
        },
        "outputId": "7d486434-19a4-4507-ea1e-6d3e81d54b13"
      },
      "source": [
        "from tensorflow.keras.optimizers import SGD\n",
        "\n",
        "unfreeze = False\n",
        "\n",
        "# Unfreeze all models after \"mixed6\"\n",
        "for layer in pre_trained_model.layers:\n",
        "  if unfreeze:\n",
        "    layer.trainable = True\n",
        "  if layer.name == 'mixed6':\n",
        "    unfreeze = True\n",
        "\n",
        "# As an optimizer, here we will use SGD \n",
        "# with a very low learning rate (0.00001)\n",
        "model.compile(loss='binary_crossentropy',\n",
        "              optimizer=SGD(\n",
        "                  lr=0.00001, \n",
        "                  momentum=0.9),\n",
        "              metrics=['acc'])"
      ],
      "execution_count": 11,
      "outputs": [
        {
          "output_type": "stream",
          "name": "stderr",
          "text": [
            "/usr/local/lib/python3.7/dist-packages/keras/optimizer_v2/gradient_descent.py:102: UserWarning: The `lr` argument is deprecated, use `learning_rate` instead.\n",
            "  super(SGD, self).__init__(name, **kwargs)\n"
          ]
        }
      ]
    },
    {
      "cell_type": "markdown",
      "metadata": {
        "id": "zE37ARlqY9da"
      },
      "source": [
        "Now let's retrain the model. We'll train on all 2000 images available, for 50 epochs, and validate on all 1,000 validation images. (This may take 15-20 minutes to run.)"
      ]
    },
    {
      "cell_type": "code",
      "metadata": {
        "id": "o_GgDGG4Y_hJ",
        "colab": {
          "base_uri": "https://localhost:8080/"
        },
        "outputId": "02616cae-4f00-4559-97ad-70d893113ead"
      },
      "source": [
        "history = model.fit_generator(\n",
        "      train_generator,\n",
        "      steps_per_epoch=100,\n",
        "      epochs=50,\n",
        "      validation_data=validation_generator,\n",
        "      validation_steps=50,\n",
        "      verbose=2)"
      ],
      "execution_count": 12,
      "outputs": [
        {
          "output_type": "stream",
          "name": "stderr",
          "text": [
            "/usr/local/lib/python3.7/dist-packages/ipykernel_launcher.py:7: UserWarning: `Model.fit_generator` is deprecated and will be removed in a future version. Please use `Model.fit`, which supports generators.\n",
            "  import sys\n"
          ]
        },
        {
          "output_type": "stream",
          "name": "stdout",
          "text": [
            "Epoch 1/50\n",
            "100/100 - 30s - loss: 0.1895 - acc: 0.9265 - val_loss: 0.1066 - val_acc: 0.9570 - 30s/epoch - 303ms/step\n",
            "Epoch 2/50\n",
            "100/100 - 22s - loss: 0.1791 - acc: 0.9320 - val_loss: 0.1152 - val_acc: 0.9550 - 22s/epoch - 223ms/step\n",
            "Epoch 3/50\n",
            "100/100 - 23s - loss: 0.1953 - acc: 0.9190 - val_loss: 0.1190 - val_acc: 0.9550 - 23s/epoch - 234ms/step\n",
            "Epoch 4/50\n",
            "100/100 - 22s - loss: 0.1888 - acc: 0.9240 - val_loss: 0.1199 - val_acc: 0.9550 - 22s/epoch - 225ms/step\n",
            "Epoch 5/50\n",
            "100/100 - 23s - loss: 0.1873 - acc: 0.9265 - val_loss: 0.1198 - val_acc: 0.9550 - 23s/epoch - 232ms/step\n",
            "Epoch 6/50\n",
            "100/100 - 22s - loss: 0.1809 - acc: 0.9245 - val_loss: 0.1181 - val_acc: 0.9560 - 22s/epoch - 223ms/step\n",
            "Epoch 7/50\n",
            "100/100 - 23s - loss: 0.1776 - acc: 0.9290 - val_loss: 0.1189 - val_acc: 0.9560 - 23s/epoch - 231ms/step\n",
            "Epoch 8/50\n",
            "100/100 - 22s - loss: 0.1840 - acc: 0.9320 - val_loss: 0.1171 - val_acc: 0.9580 - 22s/epoch - 223ms/step\n",
            "Epoch 9/50\n",
            "100/100 - 23s - loss: 0.1793 - acc: 0.9305 - val_loss: 0.1148 - val_acc: 0.9580 - 23s/epoch - 228ms/step\n",
            "Epoch 10/50\n",
            "100/100 - 22s - loss: 0.1915 - acc: 0.9240 - val_loss: 0.1150 - val_acc: 0.9590 - 22s/epoch - 223ms/step\n",
            "Epoch 11/50\n",
            "100/100 - 23s - loss: 0.1817 - acc: 0.9255 - val_loss: 0.1147 - val_acc: 0.9590 - 23s/epoch - 227ms/step\n",
            "Epoch 12/50\n",
            "100/100 - 22s - loss: 0.1899 - acc: 0.9215 - val_loss: 0.1132 - val_acc: 0.9590 - 22s/epoch - 223ms/step\n",
            "Epoch 13/50\n",
            "100/100 - 22s - loss: 0.1699 - acc: 0.9260 - val_loss: 0.1140 - val_acc: 0.9590 - 22s/epoch - 225ms/step\n",
            "Epoch 14/50\n",
            "100/100 - 23s - loss: 0.1751 - acc: 0.9280 - val_loss: 0.1129 - val_acc: 0.9590 - 23s/epoch - 226ms/step\n",
            "Epoch 15/50\n",
            "100/100 - 22s - loss: 0.1781 - acc: 0.9295 - val_loss: 0.1125 - val_acc: 0.9590 - 22s/epoch - 225ms/step\n",
            "Epoch 16/50\n",
            "100/100 - 22s - loss: 0.1813 - acc: 0.9240 - val_loss: 0.1127 - val_acc: 0.9590 - 22s/epoch - 224ms/step\n",
            "Epoch 17/50\n",
            "100/100 - 22s - loss: 0.1786 - acc: 0.9315 - val_loss: 0.1125 - val_acc: 0.9580 - 22s/epoch - 222ms/step\n",
            "Epoch 18/50\n",
            "100/100 - 23s - loss: 0.1885 - acc: 0.9180 - val_loss: 0.1111 - val_acc: 0.9600 - 23s/epoch - 232ms/step\n",
            "Epoch 19/50\n",
            "100/100 - 22s - loss: 0.1751 - acc: 0.9310 - val_loss: 0.1113 - val_acc: 0.9590 - 22s/epoch - 223ms/step\n",
            "Epoch 20/50\n",
            "100/100 - 23s - loss: 0.1841 - acc: 0.9160 - val_loss: 0.1103 - val_acc: 0.9610 - 23s/epoch - 230ms/step\n",
            "Epoch 21/50\n",
            "100/100 - 22s - loss: 0.1827 - acc: 0.9265 - val_loss: 0.1093 - val_acc: 0.9620 - 22s/epoch - 223ms/step\n",
            "Epoch 22/50\n",
            "100/100 - 23s - loss: 0.1760 - acc: 0.9260 - val_loss: 0.1089 - val_acc: 0.9620 - 23s/epoch - 227ms/step\n",
            "Epoch 23/50\n",
            "100/100 - 22s - loss: 0.1631 - acc: 0.9375 - val_loss: 0.1082 - val_acc: 0.9620 - 22s/epoch - 223ms/step\n",
            "Epoch 24/50\n",
            "100/100 - 23s - loss: 0.1776 - acc: 0.9255 - val_loss: 0.1074 - val_acc: 0.9620 - 23s/epoch - 226ms/step\n",
            "Epoch 25/50\n",
            "100/100 - 22s - loss: 0.1733 - acc: 0.9325 - val_loss: 0.1086 - val_acc: 0.9620 - 22s/epoch - 224ms/step\n",
            "Epoch 26/50\n",
            "100/100 - 23s - loss: 0.1733 - acc: 0.9210 - val_loss: 0.1077 - val_acc: 0.9620 - 23s/epoch - 234ms/step\n",
            "Epoch 27/50\n",
            "100/100 - 22s - loss: 0.1613 - acc: 0.9330 - val_loss: 0.1069 - val_acc: 0.9620 - 22s/epoch - 224ms/step\n",
            "Epoch 28/50\n",
            "100/100 - 23s - loss: 0.1804 - acc: 0.9285 - val_loss: 0.1067 - val_acc: 0.9620 - 23s/epoch - 233ms/step\n",
            "Epoch 29/50\n",
            "100/100 - 22s - loss: 0.1790 - acc: 0.9240 - val_loss: 0.1066 - val_acc: 0.9620 - 22s/epoch - 223ms/step\n",
            "Epoch 30/50\n",
            "100/100 - 23s - loss: 0.1579 - acc: 0.9390 - val_loss: 0.1056 - val_acc: 0.9620 - 23s/epoch - 232ms/step\n",
            "Epoch 31/50\n",
            "100/100 - 22s - loss: 0.1886 - acc: 0.9210 - val_loss: 0.1053 - val_acc: 0.9620 - 22s/epoch - 224ms/step\n",
            "Epoch 32/50\n",
            "100/100 - 23s - loss: 0.1688 - acc: 0.9275 - val_loss: 0.1056 - val_acc: 0.9620 - 23s/epoch - 229ms/step\n",
            "Epoch 33/50\n",
            "100/100 - 23s - loss: 0.1664 - acc: 0.9285 - val_loss: 0.1054 - val_acc: 0.9620 - 23s/epoch - 226ms/step\n",
            "Epoch 34/50\n",
            "100/100 - 23s - loss: 0.1701 - acc: 0.9325 - val_loss: 0.1046 - val_acc: 0.9620 - 23s/epoch - 230ms/step\n",
            "Epoch 35/50\n",
            "100/100 - 22s - loss: 0.1701 - acc: 0.9305 - val_loss: 0.1051 - val_acc: 0.9620 - 22s/epoch - 225ms/step\n",
            "Epoch 36/50\n",
            "100/100 - 23s - loss: 0.1643 - acc: 0.9335 - val_loss: 0.1043 - val_acc: 0.9620 - 23s/epoch - 227ms/step\n",
            "Epoch 37/50\n",
            "100/100 - 22s - loss: 0.1777 - acc: 0.9260 - val_loss: 0.1046 - val_acc: 0.9630 - 22s/epoch - 224ms/step\n",
            "Epoch 38/50\n",
            "100/100 - 23s - loss: 0.1830 - acc: 0.9275 - val_loss: 0.1040 - val_acc: 0.9630 - 23s/epoch - 227ms/step\n",
            "Epoch 39/50\n",
            "100/100 - 23s - loss: 0.1558 - acc: 0.9440 - val_loss: 0.1030 - val_acc: 0.9620 - 23s/epoch - 227ms/step\n",
            "Epoch 40/50\n",
            "100/100 - 23s - loss: 0.1641 - acc: 0.9335 - val_loss: 0.1028 - val_acc: 0.9630 - 23s/epoch - 226ms/step\n",
            "Epoch 41/50\n",
            "100/100 - 22s - loss: 0.1587 - acc: 0.9340 - val_loss: 0.1022 - val_acc: 0.9640 - 22s/epoch - 224ms/step\n",
            "Epoch 42/50\n",
            "100/100 - 22s - loss: 0.1659 - acc: 0.9310 - val_loss: 0.1019 - val_acc: 0.9640 - 22s/epoch - 222ms/step\n",
            "Epoch 43/50\n",
            "100/100 - 23s - loss: 0.1676 - acc: 0.9365 - val_loss: 0.1020 - val_acc: 0.9640 - 23s/epoch - 231ms/step\n",
            "Epoch 44/50\n",
            "100/100 - 22s - loss: 0.1513 - acc: 0.9395 - val_loss: 0.1017 - val_acc: 0.9640 - 22s/epoch - 223ms/step\n",
            "Epoch 45/50\n",
            "100/100 - 23s - loss: 0.1804 - acc: 0.9270 - val_loss: 0.1015 - val_acc: 0.9640 - 23s/epoch - 230ms/step\n",
            "Epoch 46/50\n",
            "100/100 - 22s - loss: 0.1613 - acc: 0.9355 - val_loss: 0.1016 - val_acc: 0.9650 - 22s/epoch - 225ms/step\n",
            "Epoch 47/50\n",
            "100/100 - 23s - loss: 0.1527 - acc: 0.9340 - val_loss: 0.1011 - val_acc: 0.9650 - 23s/epoch - 230ms/step\n",
            "Epoch 48/50\n",
            "100/100 - 22s - loss: 0.1558 - acc: 0.9355 - val_loss: 0.1010 - val_acc: 0.9650 - 22s/epoch - 222ms/step\n",
            "Epoch 49/50\n",
            "100/100 - 23s - loss: 0.1625 - acc: 0.9335 - val_loss: 0.1008 - val_acc: 0.9650 - 23s/epoch - 228ms/step\n",
            "Epoch 50/50\n",
            "100/100 - 22s - loss: 0.1681 - acc: 0.9365 - val_loss: 0.1009 - val_acc: 0.9650 - 22s/epoch - 224ms/step\n"
          ]
        }
      ]
    },
    {
      "cell_type": "markdown",
      "metadata": {
        "id": "3EPGn58ofwq5"
      },
      "source": [
        "We are seeing a nice improvement, with the validation loss going from ~1.7 down to ~1.2, and accuracy going from 88% to 92%. That's a 4.5% relative improvement in accuracy.\n",
        "\n",
        "Let's plot the training and validation loss and accuracy to show it conclusively:"
      ]
    },
    {
      "cell_type": "code",
      "metadata": {
        "id": "1FtxcKjJfxL9",
        "colab": {
          "base_uri": "https://localhost:8080/",
          "height": 562
        },
        "outputId": "033eac62-e917-4840-a842-421a45dca81f"
      },
      "source": [
        "%matplotlib inline\n",
        "\n",
        "import matplotlib.pyplot as plt\n",
        "import matplotlib.image as mpimg\n",
        "\n",
        "# Retrieve a list of accuracy results on training and validation data\n",
        "# sets for each training epoch\n",
        "acc = history.history['acc']\n",
        "val_acc = history.history['val_acc']\n",
        "\n",
        "# Retrieve a list of list results on training and validation data\n",
        "# sets for each training epoch\n",
        "loss = history.history['loss']\n",
        "val_loss = history.history['val_loss']\n",
        "\n",
        "# Get number of epochs\n",
        "epochs = range(len(acc))\n",
        "\n",
        "# Plot training and validation accuracy per epoch\n",
        "plt.plot(epochs, acc)\n",
        "plt.plot(epochs, val_acc)\n",
        "plt.title('Training and validation accuracy')\n",
        "\n",
        "plt.figure()\n",
        "\n",
        "# Plot training and validation loss per epoch\n",
        "plt.plot(epochs, loss)\n",
        "plt.plot(epochs, val_loss)\n",
        "plt.title('Training and validation loss')"
      ],
      "execution_count": 13,
      "outputs": [
        {
          "output_type": "execute_result",
          "data": {
            "text/plain": [
              "Text(0.5, 1.0, 'Training and validation loss')"
            ]
          },
          "metadata": {},
          "execution_count": 13
        },
        {
          "output_type": "display_data",
          "data": {
            "image/png": "[encoded data removed]",
            "text/plain": [
              "<Figure size 432x288 with 1 Axes>"
            ]
          },
          "metadata": {
            "needs_background": "light"
          }
        },
        {
          "output_type": "display_data",
          "data": {
            "image/png": "[encoded data removed]",
            "text/plain": [
              "<Figure size 432x288 with 1 Axes>"
            ]
          },
          "metadata": {
            "needs_background": "light"
          }
        }
      ]
    },
    {
      "cell_type": "markdown",
      "metadata": {
        "id": "X-fUIeizakjE"
      },
      "source": [
        "Congratulations! Using feature extraction and fine-tuning, you've built an image classification model that can identify cats vs. dogs in images with over 90% accuracy."
      ]
    },
    {
      "cell_type": "markdown",
      "metadata": {
        "id": "x_ANwJCnx7w-"
      },
      "source": [
        "## Clean Up\n",
        "\n",
        "Run the following cell to terminate the kernel and free memory resources:"
      ]
    },
    {
      "cell_type": "code",
      "metadata": {
        "id": "-hUmyohAyBzh"
      },
      "source": [
        "import os, signal\n",
        "os.kill(os.getpid(), signal.SIGKILL)"
      ],
      "execution_count": null,
      "outputs": []
    }
  ]
}